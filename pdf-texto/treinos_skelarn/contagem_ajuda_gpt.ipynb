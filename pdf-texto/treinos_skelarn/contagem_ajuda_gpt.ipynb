{
 "cells": [
  {
   "cell_type": "code",
   "execution_count": 3,
   "metadata": {},
   "outputs": [],
   "source": [
    "from sklearn.feature_extraction.text import CountVectorizer\n",
    "import re"
   ]
  },
  {
   "cell_type": "code",
   "execution_count": 17,
   "metadata": {},
   "outputs": [
    {
     "data": {
      "text/plain": [
       "'A inteligência artificial aplicada está revolucionando muitos setores. A aplicação da inteligência artificial aplicada é ampla e diversa.'"
      ]
     },
     "execution_count": 17,
     "metadata": {},
     "output_type": "execute_result"
    }
   ],
   "source": [
    "# Texto de exemplo\n",
    "texto = \"A inteligência artificial aplicada está revolucionando muitos setores. A aplicação da inteligência artificial aplicada é ampla e diversa.\"\n",
    "texto"
   ]
  },
  {
   "cell_type": "code",
   "execution_count": 18,
   "metadata": {},
   "outputs": [
    {
     "data": {
      "text/plain": [
       "'a inteligência artificial aplicada está revolucionando muitos setores a aplicação da inteligência artificial aplicada é ampla e diversa'"
      ]
     },
     "execution_count": 18,
     "metadata": {},
     "output_type": "execute_result"
    }
   ],
   "source": [
    "# Função para pré-processamento de texto\n",
    "def preprocessamento(texto):\n",
    "    # Transforma o texto em minúsculas\n",
    "    texto = texto.lower()\n",
    "    # Remove pontuações e caracteres especiais\n",
    "    texto = re.sub(r'[^\\w\\s]', '', texto)\n",
    "    return texto\n",
    "\n",
    "# Pré processamento de texto\n",
    "texto_preprocessado = preprocessamento(texto)\n",
    "texto_preprocessado"
   ]
  },
  {
   "cell_type": "code",
   "execution_count": 23,
   "metadata": {},
   "outputs": [
    {
     "name": "stdout",
     "output_type": "stream",
     "text": [
      "Frequência de 'inteligência artificial' no texto: 2\n"
     ]
    }
   ],
   "source": [
    "# Tokenização do texto\n",
    "vectorizer = CountVectorizer(ngram_range=(1, 2))\n",
    "X = vectorizer.fit_transform([texto_preprocessado])\n",
    "\n",
    "# Obtenção do índice do termo \"inteligência artificial\" no vetor de recursos\n",
    "indice_inteligencia_artificial = vectorizer.vocabulary_.get('inteligência artificial')\n",
    "\n",
    "# Se o termo não estiver presente, o índice será None\n",
    "if indice_inteligencia_artificial is not None:\n",
    "    # Recuperação da frequência do termo\n",
    "    frequencia_inteligencia_artificial = X[0, indice_inteligencia_artificial]\n",
    "    print(\"Frequência de 'inteligência artificial' no texto:\", frequencia_inteligencia_artificial)\n",
    "else:\n",
    "    print(\"O termo 'inteligência artificial' não está presente no texto.\")"
   ]
  }
 ],
 "metadata": {
  "kernelspec": {
   "display_name": "Python 3",
   "language": "python",
   "name": "python3"
  },
  "language_info": {
   "codemirror_mode": {
    "name": "ipython",
    "version": 3
   },
   "file_extension": ".py",
   "mimetype": "text/x-python",
   "name": "python",
   "nbconvert_exporter": "python",
   "pygments_lexer": "ipython3",
   "version": "3.10.4"
  }
 },
 "nbformat": 4,
 "nbformat_minor": 2
}
