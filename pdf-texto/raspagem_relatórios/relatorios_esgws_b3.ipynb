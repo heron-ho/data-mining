{
 "cells": [
  {
   "cell_type": "code",
   "execution_count": 70,
   "metadata": {},
   "outputs": [],
   "source": [
    "# importações\n",
    "# raspar os históricos de valuation\n",
    "from selenium import webdriver\n",
    "from selenium.webdriver.common.keys import Keys\n",
    "from selenium.webdriver.common.by import By\n",
    "from selenium.webdriver.support import expected_conditions as EC\n",
    "import time\n",
    "import pandas as pd\n",
    "#import undetected_chromedriver as uc\n",
    "from seleniumbase import Driver\n",
    "import requests\n",
    "import os\n"
   ]
  },
  {
   "cell_type": "code",
   "execution_count": null,
   "metadata": {},
   "outputs": [],
   "source": [
    "# ESTRATÉGIA: \n",
    "\"\"\"\n",
    "1) Encontrar os botôes e clicar, abrindo conteúdo em nova página\n",
    "2) Tentar baixar pdf, se não, obter o texto da página e salvar em arquivo, com o número certo dos 112 em orem alfabética\n",
    "\"\"\""
   ]
  },
  {
   "cell_type": "code",
   "execution_count": 92,
   "metadata": {},
   "outputs": [],
   "source": [
    "# Inicialize o driver do Selenium\n",
    "browser = Driver(uc=True)\n",
    "time.sleep(3)\n",
    "browser.get('https://esgws.b3.com.br/')\n",
    "time.sleep(3)"
   ]
  },
  {
   "cell_type": "code",
   "execution_count": 94,
   "metadata": {},
   "outputs": [
    {
     "data": {
      "text/plain": [
       "100"
      ]
     },
     "execution_count": 94,
     "metadata": {},
     "output_type": "execute_result"
    }
   ],
   "source": [
    "# define table rows (linhas com as empresas)\n",
    "\n",
    "#table\n",
    "tbody = browser.find_element(By.TAG_NAME, 'tbody')\n",
    "# rows (101)\n",
    "tbody_trs = tbody.find_elements(By.TAG_NAME, 'tr')\n",
    "len(tbody_trs)"
   ]
  },
  {
   "cell_type": "code",
   "execution_count": null,
   "metadata": {},
   "outputs": [],
   "source": [
    "# Acessa a lista de documentos para baixar para uma empresa\n",
    "for tds in range(len(tbody_trs)):\n",
    "    # define table rows\n",
    "    #table\n",
    "    tbody = browser.find_element(By.TAG_NAME, 'tbody')\n",
    "    # rows (101)\n",
    "    tbody_trs = tbody.find_elements(By.TAG_NAME, 'tr')\n",
    "\n",
    "    # entra no td para salvar o nome e abrir documentação da empresa\n",
    "    tds_tr = tbody_trs[tds].find_elements(By.TAG_NAME, 'td') # todos tds em cada tr\n",
    "    nome_empresa = tds_tr[3].text\n",
    "    \n",
    "    td_clicavel = tds_tr[4] #o quarto td é clicável\n",
    "    td_clicavel.click() # clica para abrir lista de documentos da empresa\n",
    "    time.sleep(2)\n",
    "    \n",
    "    # obter documentação disponível da empresa\n",
    "    \n",
    "    \n",
    "    \n",
    "    \n",
    "    # voltar para repositório e terminar loop desta empresa:\n",
    "    btn = browser.find_elements(By.XPATH, '//button[@tabindex=\"0\" and @type=\"button\"]')\n",
    "    botao_repositorio = btn[1]\n",
    "    botao_repositorio.click()\n",
    "    time.sleep(2)\n",
    "    # fim do loop da empresa\n",
    "\n"
   ]
  },
  {
   "cell_type": "code",
   "execution_count": 145,
   "metadata": {},
   "outputs": [],
   "source": [
    "# clicar nos anos com informações sobre a empresa\n",
    "div_com_anos = browser.find_elements(By.XPATH, '//div[@class=\"MuiBox-root css-2u3veb\"]') # só tem uma\n",
    "expandir_ano = div_com_anos[0].find_elements(By.XPATH, '//*[@role=\"button\"]') # botao de expandir anos!"
   ]
  },
  {
   "cell_type": "code",
   "execution_count": 153,
   "metadata": {},
   "outputs": [
    {
     "name": "stdout",
     "output_type": "stream",
     "text": [
      "baixei o texto da página da SLC AGRICOLA!\n"
     ]
    }
   ],
   "source": [
    "# -----------------------------------------ANO 2019:----------------------------------------------\n",
    "expandir_ano[5].click() \n",
    "submit_buttons = browser.find_elements(By.XPATH, '//button[@type=\"submit\"]')\n",
    "time.sleep(0.5)\n",
    "submit_buttons[0].click()\n",
    "time.sleep(5)\n",
    "\n",
    "# tentar trocar de aba, baixar relatório ou texto da página e voltar para a página anterior:\n",
    "try:\n",
    "    # Determinar aba que vou usar\n",
    "    handles = browser.window_handles\n",
    "    len(handles)\n",
    "    browser.switch_to.window(handles[1])\n",
    "    try:\n",
    "        # AQUI VOU BAIXAR O PDF\n",
    "        current_url = browser.current_url\n",
    "        r = requests.get(current_url, stream=True)\n",
    "        with open(f'relatorio_pdf_2019{nome_empresa}.pdf', 'wb') as pdf:\n",
    "            for chunk in r.iter_content(chunk_size=1024):\n",
    "                \"\"\"\n",
    "                writing one chunk at a time to pdf file\n",
    "                \"\"\"\n",
    "                if  chunk:\n",
    "                    pdf.write(chunk)\n",
    "        os.getcwd()\n",
    "        print(f'baixei o pdf do relatório da empresa {nome_empresa}!')\n",
    "    except: # se não tiver pdf...\n",
    "        body_element = browser.find_element(By.TAG_NAME, 'body')\n",
    "        # extrair texto do elemento body\n",
    "        body_text = body_element.text\n",
    "        #print(f'o texto é: {body_text}') # funciona\n",
    "        # Salve o texto em um arquivo\n",
    "        with open(f\"relatorio_texto_2019_{nome_empresa}.txt\", \"w\", encoding=\"utf-8\") as file:\n",
    "            file.write(body_text)\n",
    "        print(f'baixei o texto da página da {nome_empresa}!')\n",
    "        \n",
    "    # Voltar para a aba de antes\n",
    "    browser.switch_to.window(handles[0])\n",
    "except:\n",
    "    print(f'não consegui trocar de abas e tentar baixar pdf ou o texto da página da {nome_empresa}')\n",
    "# -----------------------------------------TERMINA ANO 2019:----------------------------------------------\n",
    "\n"
   ]
  },
  {
   "cell_type": "code",
   "execution_count": 147,
   "metadata": {},
   "outputs": [
    {
     "name": "stdout",
     "output_type": "stream",
     "text": [
      "baixei o texto da página da SLC AGRICOLA!\n"
     ]
    }
   ],
   "source": [
    "# -----------------------------------------ANO 2020:----------------------------------------------\n",
    "expandir_ano[6].click() \n",
    "submit_buttons = browser.find_elements(By.XPATH, '//button[@type=\"submit\"]')\n",
    "time.sleep(0.5)\n",
    "submit_buttons[2].click()\n",
    "time.sleep(5)\n",
    "\n",
    "# tentar trocar de aba, baixar relatório ou texto da página e voltar para a página anterior:\n",
    "\n",
    "try:\n",
    "    # Determinar aba que vou usar\n",
    "    handles = browser.window_handles\n",
    "    len(handles)\n",
    "    browser.switch_to.window(handles[1])\n",
    "    try:\n",
    "        # AQUI VOU BAIXAR O PDF\n",
    "        current_url = browser.current_url\n",
    "        r = requests.get(current_url, stream=True)\n",
    "        with open(f'relatorio_pdf_2020_{nome_empresa}.pdf', 'wb') as pdf:\n",
    "            for chunk in r.iter_content(chunk_size=1024):\n",
    "                \"\"\"\n",
    "                writing one chunk at a time to pdf file\n",
    "                \"\"\"\n",
    "                if  chunk:\n",
    "                    pdf.write(chunk)\n",
    "        os.getcwd()\n",
    "        print(f'baixei o pdf do relatório da empresa {nome_empresa}!')\n",
    "    except: # se não tiver pdf...\n",
    "        body_element = browser.find_element(By.TAG_NAME, 'body')\n",
    "        # extrair texto do elemento body\n",
    "        body_text = body_element.text\n",
    "        #print(f'o texto é: {body_text}') # funciona\n",
    "        # Salve o texto em um arquivo\n",
    "        with open(f\"relatorio_texto_2020_{nome_empresa}.txt\", \"w\", encoding=\"utf-8\") as file:\n",
    "            file.write(body_text)\n",
    "        print(f'baixei o texto da página da {nome_empresa}!')\n",
    "        \n",
    "    # Voltar para a aba de antes\n",
    "    browser.switch_to.window(handles[0])\n",
    "except:\n",
    "    print(f'não consegui trocar de abas e tentar baixar pdf ou o texto da página da {nome_empresa}')"
   ]
  },
  {
   "cell_type": "code",
   "execution_count": 148,
   "metadata": {},
   "outputs": [
    {
     "name": "stdout",
     "output_type": "stream",
     "text": [
      "baixei o texto da página da SLC AGRICOLA!\n"
     ]
    }
   ],
   "source": [
    "# -----------------------------------------ANO 2021:----------------------------------------------\n",
    "expandir_ano[7].click() \n",
    "submit_buttons = browser.find_elements(By.XPATH, '//button[@type=\"submit\"]')\n",
    "time.sleep(0.5)\n",
    "submit_buttons[4].click()\n",
    "time.sleep(5)\n",
    "\n",
    "# tentar trocar de aba, baixar relatório ou texto da página e voltar para a página anterior:\n",
    "\n",
    "try:\n",
    "    # Determinar aba que vou usar\n",
    "    handles = browser.window_handles\n",
    "    len(handles)\n",
    "    browser.switch_to.window(handles[1])\n",
    "    try:\n",
    "        # AQUI VOU BAIXAR O PDF\n",
    "        current_url = browser.current_url\n",
    "        r = requests.get(current_url, stream=True)\n",
    "        with open(f'relatorio_pdf_2021_{nome_empresa}.pdf', 'wb') as pdf:\n",
    "            for chunk in r.iter_content(chunk_size=1024):\n",
    "                \"\"\"\n",
    "                writing one chunk at a time to pdf file\n",
    "                \"\"\"\n",
    "                if  chunk:\n",
    "                    pdf.write(chunk)\n",
    "        os.getcwd()\n",
    "        print(f'baixei o pdf do relatório da empresa {nome_empresa}!')\n",
    "    except: # se não tiver pdf...\n",
    "        body_element = browser.find_element(By.TAG_NAME, 'body')\n",
    "        # extrair texto do elemento body\n",
    "        body_text = body_element.text\n",
    "        #print(f'o texto é: {body_text}') # funciona\n",
    "        # Salve o texto em um arquivo\n",
    "        with open(f\"relatorio_texto_2021_{nome_empresa}.txt\", \"w\", encoding=\"utf-8\") as file:\n",
    "            file.write(body_text)\n",
    "        print(f'baixei o texto da página da {nome_empresa}!')\n",
    "        \n",
    "    # Voltar para a aba de antes\n",
    "    browser.switch_to.window(handles[0])\n",
    "except:\n",
    "    print(f'não consegui trocar de abas e tentar baixar pdf ou o texto da página da {nome_empresa}')"
   ]
  },
  {
   "cell_type": "code",
   "execution_count": 156,
   "metadata": {},
   "outputs": [
    {
     "name": "stdout",
     "output_type": "stream",
     "text": [
      "baixei o texto da página da SLC AGRICOLA!\n"
     ]
    }
   ],
   "source": [
    "# -----------------------------------------ANO 2022:----------------------------------------------\n",
    "expandir_ano[8].click() \n",
    "submit_buttons = browser.find_elements(By.XPATH, '//button[@type=\"submit\"]')\n",
    "time.sleep(0.5)\n",
    "submit_buttons[6].click()\n",
    "time.sleep(5)\n",
    "\n",
    "# tentar trocar de aba, baixar relatório ou texto da página e voltar para a página anterior:\n",
    "\n",
    "try:\n",
    "    # Determinar aba que vou usar\n",
    "    handles = browser.window_handles\n",
    "    len(handles)\n",
    "    browser.switch_to.window(handles[1])\n",
    "    try:\n",
    "        # BAIXAR PDF\n",
    "        current_url = browser.current_url\n",
    "        r = requests.get(current_url, stream=True)\n",
    "        with open(f'relatorio_pdf_2022_{nome_empresa}.pdf', 'wb') as pdf:\n",
    "            for chunk in r.iter_content(chunk_size=1024):\n",
    "                \"\"\"\n",
    "                writing one chunk at a time to pdf file\n",
    "                \"\"\"\n",
    "                if  chunk:\n",
    "                    pdf.write(chunk)\n",
    "        os.getcwd()\n",
    "        print(f'baixei o pdf do relatório da empresa {nome_empresa}!')\n",
    "    except:\n",
    "        # BAIXAR TEXTO\n",
    "        body_element = browser.find_element(By.TAG_NAME, 'body')\n",
    "        # extrair texto do elemento body\n",
    "        body_text = body_element.text\n",
    "        #print(f'o texto é: {body_text}') # funciona\n",
    "        # Salve o texto em um arquivo\n",
    "        with open(f\"relatorio_texto_2022_{nome_empresa}.txt\", \"w\", encoding=\"utf-8\") as file:\n",
    "            file.write(body_text)\n",
    "        print(f'baixei o texto da página da {nome_empresa}!')\n",
    "        \n",
    "    # Voltar para a aba de antes\n",
    "    browser.switch_to.window(handles[0])\n",
    "except:\n",
    "    print(f'não consegui trocar de abas e tentar baixar pdf ou o texto da página da {nome_empresa}')"
   ]
  },
  {
   "cell_type": "code",
   "execution_count": null,
   "metadata": {},
   "outputs": [],
   "source": [
    "# Inicialize o driver do Selenium\n",
    "browser = Driver(uc=True)\n",
    "time.sleep(3)\n",
    "browser.get('https://sustentabilidade.petrobras.com.br/documents/1449993/80c5cf69-cb78-5ae4-aa27-46f958da64ba')\n",
    "time.sleep(3)\n",
    "\n",
    "\n",
    "\n",
    "# BAIXAR PDF\n",
    "current_url = browser.current_url\n",
    "r = requests.get(current_url, stream=True)\n",
    "with open(f'relatorio_pdf_2022_{nome_empresa}.pdf', 'wb') as pdf:\n",
    "    for chunk in r.iter_content(chunk_size=1024):\n",
    "        \"\"\"\n",
    "        writing one chunk at a time to pdf file\n",
    "        \"\"\"\n",
    "        if  chunk:\n",
    "            pdf.write(chunk)\n",
    "os.getcwd()\n",
    "print(f'baixei o pdf do relatório da empresa {nome_empresa}!')"
   ]
  },
  {
   "cell_type": "code",
   "execution_count": 150,
   "metadata": {},
   "outputs": [
    {
     "name": "stdout",
     "output_type": "stream",
     "text": [
      "baixei o texto da página da SLC AGRICOLA!\n"
     ]
    }
   ],
   "source": [
    "# -----------------------------------------ANO 2023:----------------------------------------------\n",
    "expandir_ano[9].click() \n",
    "submit_buttons = browser.find_elements(By.XPATH, '//button[@type=\"submit\"]')\n",
    "time.sleep(0.5)\n",
    "submit_buttons[8].click()\n",
    "time.sleep(5)\n",
    "\n",
    "# tentar trocar de aba, baixar relatório ou texto da página e voltar para a página anterior:\n",
    "\n",
    "try:\n",
    "    # Determinar aba que vou usar\n",
    "    handles = browser.window_handles\n",
    "    len(handles)\n",
    "    browser.switch_to.window(handles[1])\n",
    "    try:\n",
    "        # AQUI VOU BAIXAR O PDF\n",
    "        current_url = browser.current_url\n",
    "        r = requests.get(current_url, stream=True)\n",
    "        with open(f'relatorio_pdf_2023_{nome_empresa}.pdf', 'wb') as pdf:\n",
    "            for chunk in r.iter_content(chunk_size=1024):\n",
    "                \"\"\"\n",
    "                writing one chunk at a time to pdf file\n",
    "                \"\"\"\n",
    "                if  chunk:\n",
    "                    pdf.write(chunk)\n",
    "        os.getcwd()\n",
    "        print(f'baixei o pdf do relatório da empresa {nome_empresa}!')\n",
    "    except: # se não tiver pdf...\n",
    "        body_element = browser.find_element(By.TAG_NAME, 'body')\n",
    "        # extrair texto do elemento body\n",
    "        body_text = body_element.text\n",
    "        #print(f'o texto é: {body_text}') # funciona\n",
    "        # Salve o texto em um arquivo\n",
    "        with open(f\"relatorio_texto_2023_{nome_empresa}.txt\", \"w\", encoding=\"utf-8\") as file:\n",
    "            file.write(body_text)\n",
    "        print(f'baixei o texto da página da {nome_empresa}!')\n",
    "        \n",
    "    # Voltar para a aba de antes\n",
    "    browser.switch_to.window(handles[0])\n",
    "except:\n",
    "    print(f'não consegui trocar de abas e tentar baixar pdf ou o texto da página da {nome_empresa}')"
   ]
  }
 ],
 "metadata": {
  "kernelspec": {
   "display_name": "Python 3",
   "language": "python",
   "name": "python3"
  },
  "language_info": {
   "codemirror_mode": {
    "name": "ipython",
    "version": 3
   },
   "file_extension": ".py",
   "mimetype": "text/x-python",
   "name": "python",
   "nbconvert_exporter": "python",
   "pygments_lexer": "ipython3",
   "version": "3.10.4"
  }
 },
 "nbformat": 4,
 "nbformat_minor": 2
}
